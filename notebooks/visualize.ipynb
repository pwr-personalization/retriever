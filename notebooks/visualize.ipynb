{
 "cells": [
  {
   "cell_type": "code",
   "execution_count": null,
   "metadata": {
    "pycharm": {
     "name": "#%%\n"
    }
   },
   "outputs": [],
   "source": [
    "import re\n",
    "\n",
    "import matplotlib.pyplot as plt\n",
    "import pandas as pd\n",
    "import seaborn as sns\n",
    "\n",
    "from sentify import WANDB_EXPORTS_DIR"
   ]
  },
  {
   "cell_type": "code",
   "execution_count": null,
   "metadata": {
    "pycharm": {
     "name": "#%%\n"
    }
   },
   "outputs": [],
   "source": [
    "filename = 'wandb_export_2022-05-02T14_04_16.453+02_00.csv'\n",
    "filepath = WANDB_EXPORTS_DIR.joinpath(filename)\n",
    "df_results = pd.read_csv(filepath).query('State == \"finished\"')\n",
    "\n",
    "df_results"
   ]
  },
  {
   "cell_type": "code",
   "execution_count": null,
   "metadata": {
    "pycharm": {
     "name": "#%%\n"
    }
   },
   "outputs": [],
   "source": [
    "df_results.info()"
   ]
  },
  {
   "cell_type": "code",
   "execution_count": null,
   "metadata": {
    "pycharm": {
     "name": "#%%\n"
    }
   },
   "outputs": [],
   "source": [
    "import numpy as np\n",
    "\n",
    "DATASETS = [\n",
    "    'measuring_hate_speech',\n",
    "    'yelp',\n",
    "    'imdb',\n",
    "    'sentiment140',\n",
    "    'MHS_sentiment',\n",
    "    'MHS_hatespeech',\n",
    "    'wiki_attack',\n",
    "    'wiki_aggression',\n",
    "    'wiki+toxicity',\n",
    "]\n",
    "\n",
    "\n",
    "def _process_name(name):\n",
    "    dataset = ''\n",
    "    for dataset_name in DATASETS:\n",
    "        if dataset_name in name:\n",
    "            name = name[len(dataset_name):]\n",
    "            dataset = dataset_name\n",
    "            break\n",
    "\n",
    "    method = re.search(r'_(.*)_2022', name).group(1)\n",
    "    return {'dataset': dataset, 'method': method}\n",
    "\n",
    "\n",
    "df_results['time'] = pd.to_datetime(df_results['Created'])\n",
    "df_results = df_results.replace('None', np.nan)\n",
    "\n",
    "dataset_method = df_results['Name'].map(_process_name).apply(pd.Series)\n",
    "df_results = df_results.join(dataset_method, rsuffix='_', how='left')\n",
    "\n",
    "df_results = df_results.drop(columns=['dataset', 'method'])\n",
    "df_results = df_results.rename(columns={\n",
    "    'dataset_': 'dataset',\n",
    "    'method_': 'method',\n",
    "})\n",
    "\n",
    "df_results.head()"
   ]
  },
  {
   "cell_type": "code",
   "execution_count": null,
   "metadata": {
    "pycharm": {
     "name": "#%%\n"
    }
   },
   "outputs": [],
   "source": [
    "df_results.dataset.unique()"
   ]
  },
  {
   "cell_type": "code",
   "execution_count": null,
   "metadata": {
    "pycharm": {
     "name": "#%%\n"
    }
   },
   "outputs": [],
   "source": [
    "df_results.method.unique()"
   ]
  },
  {
   "cell_type": "code",
   "execution_count": null,
   "metadata": {
    "pycharm": {
     "name": "#%%\n"
    }
   },
   "outputs": [],
   "source": [
    "# Retriever\n",
    "df_results.loc[\n",
    "    (df_results['method'] == 'retriever')\n",
    "    & (df_results['mean_center_embeddings'] != True)\n",
    "    & df_results['top_k'].isna()\n",
    "    & df_results['encoder_name'].isna(),\n",
    "    'method'\n",
    "] = 'retriever'\n",
    "df_results.loc[\n",
    "    (df_results['method'] == 'retriever')\n",
    "    & df_results['top_k'].isna()\n",
    "    & (df_results['encoder_name'] == \"cross-encoder/stsb-roberta-base\")\n",
    "    & df_results['normalize_features'],\n",
    "    'method'\n",
    "] = 'retriever cross roberta norm=True'\n",
    "df_results.loc[\n",
    "    (df_results['method'] == 'retriever')\n",
    "    & df_results['top_k'].isna()\n",
    "    & (df_results['encoder_name'] == \"cross-encoder/stsb-roberta-base\")\n",
    "    & (df_results['feature_normalization'] == \"none\"),\n",
    "    'method'\n",
    "] = 'retriever cross roberta norm=none'\n",
    "df_results.loc[\n",
    "    (df_results['method'] == 'retriever')\n",
    "    & df_results['top_k'].isna()\n",
    "    & (df_results['encoder_name'] == \"cross-encoder/stsb-distilroberta-base\")\n",
    "    & (df_results['feature_normalization'] == \"none\"),\n",
    "    'method'\n",
    "] = 'retriever cross distilroberta norm=none'\n",
    "df_results.loc[\n",
    "    (df_results['method'] == 'retriever') & df_results['mean_center_embeddings'] & df_results['top_k'].isna(),\n",
    "    'method'\n",
    "] = 'center retriever'\n",
    "\n",
    "# KNN = 3\n",
    "df_results.loc[\n",
    "    (df_results['method'] == 'retriever')\n",
    "    & (df_results['mean_center_embeddings'] != True)\n",
    "    & (df_results['top_k'] == \"3\")\n",
    "    & df_results['encoder_name'].isna(),\n",
    "    'method'\n",
    "] = 'retriever knn=3'\n",
    "df_results.loc[\n",
    "    (df_results['method'] == 'retriever')\n",
    "    & (df_results['top_k'] == \"3\")\n",
    "    & (df_results['encoder_name'] == \"cross-encoder/stsb-roberta-base\")\n",
    "    & (df_results['feature_normalization'] == \"none\"),\n",
    "    'method'\n",
    "] = 'retriever cross roberta norm=none knn=3'\n",
    "df_results.loc[\n",
    "    (df_results['method'] == 'retriever')\n",
    "    & df_results['mean_center_embeddings']\n",
    "    & (df_results['top_k'] == \"3\")\n",
    "    & df_results['encoder_name'].isna(),\n",
    "    'method'\n",
    "] = 'center retriever knn=3'\n",
    "\n",
    "# KNN = 5\n",
    "df_results.loc[\n",
    "    (df_results['method'] == 'retriever')\n",
    "    & (df_results['mean_center_embeddings'] != True)\n",
    "    & ( df_results['top_k'] == \"5\")\n",
    "    & df_results['encoder_name'].isna(),\n",
    "    'method'\n",
    "] = 'retriever knn=5'\n",
    "df_results.loc[\n",
    "    (df_results['method'] == 'retriever')\n",
    "    & df_results['mean_center_embeddings']\n",
    "    & (df_results['top_k'] == \"5\")\n",
    "    & df_results['encoder_name'].isna(),\n",
    "    'method'\n",
    "] = 'center retriever knn=5'\n",
    "\n",
    "\n",
    "# SentiLARE\n",
    "df_results.loc[\n",
    "    (df_results['method'] == 'retriever_sentiLARE')\n",
    "    & (df_results['mean_center_embeddings'] != True)\n",
    "    & df_results['top_k'].isna(),\n",
    "    'method'\n",
    "] = 'retriever_sentiLARE'\n",
    "df_results.loc[\n",
    "    (df_results['method'] == 'retriever_sentiLARE')\n",
    "    & (df_results['mean_center_embeddings'] != True)\n",
    "    & (df_results['top_k'] == \"3\"),\n",
    "    'method'\n",
    "] = 'retriever_sentiLARE knn=3'\n",
    "df_results.loc[\n",
    "    (df_results['method'] == 'retriever_sentiLARE')\n",
    "    & (df_results['mean_center_embeddings'] != True)\n",
    "    & (df_results['top_k'] == \"5\"),\n",
    "    'method'\n",
    "] = 'retriever_sentiLARE knn=5'\n",
    "\n",
    "df_results.loc[\n",
    "    (df_results['method'] == 'retriever_sentiLARE')\n",
    "    & df_results['mean_center_embeddings']\n",
    "    & df_results['top_k'].isna(),\n",
    "    'method'\n",
    "] = 'center retriever_sentiLARE'\n",
    "df_results.loc[\n",
    "    (df_results['method'] == 'retriever_sentiLARE')\n",
    "    & df_results['mean_center_embeddings']\n",
    "    & (df_results['top_k'] == \"3\"),\n",
    "    'method'\n",
    "] = 'center retriever_sentiLARE knn=3'\n",
    "df_results.loc[\n",
    "    (df_results['method'] == 'retriever_sentiLARE')\n",
    "    & df_results['mean_center_embeddings']\n",
    "    & (df_results['top_k'] == \"5\"),\n",
    "    'method'\n",
    "] = 'center retriever_sentiLARE knn=5'\n",
    "\n",
    "df_results"
   ]
  },
  {
   "cell_type": "code",
   "execution_count": null,
   "metadata": {
    "pycharm": {
     "name": "#%%\n"
    }
   },
   "outputs": [],
   "source": [
    "plt.figure(figsize=(12, 6))\n",
    "plt.ylim(0.4, 1.0)\n",
    "sns.barplot(\n",
    "    x='dataset',\n",
    "    y='test/f1_score',\n",
    "    hue='method',\n",
    "    data=df_results,\n",
    ")\n",
    "plt.legend(bbox_to_anchor=(1.05, 1), loc=2, borderaxespad=0.)"
   ]
  },
  {
   "cell_type": "code",
   "execution_count": null,
   "metadata": {
    "pycharm": {
     "name": "#%%\n"
    }
   },
   "outputs": [],
   "source": [
    "df_results.groupby(by=['dataset', 'method']).agg({\n",
    "    'test/f1_score': ['mean', 'std'],\n",
    "    'method': ['count']\n",
    "})"
   ]
  },
  {
   "cell_type": "code",
   "execution_count": null,
   "metadata": {
    "pycharm": {
     "name": "#%%\n"
    }
   },
   "outputs": [],
   "source": []
  }
 ],
 "metadata": {
  "kernelspec": {
   "display_name": "Python 3 (ipykernel)",
   "language": "python",
   "name": "python3"
  },
  "language_info": {
   "codemirror_mode": {
    "name": "ipython",
    "version": 3
   },
   "file_extension": ".py",
   "mimetype": "text/x-python",
   "name": "python",
   "nbconvert_exporter": "python",
   "pygments_lexer": "ipython3",
   "version": "3.8.13"
  }
 },
 "nbformat": 4,
 "nbformat_minor": 1
}